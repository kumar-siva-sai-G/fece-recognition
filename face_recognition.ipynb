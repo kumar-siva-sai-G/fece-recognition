{
 "cells": [
  {
   "cell_type": "code",
   "execution_count": 3,
   "id": "9f02140e-b85d-43ee-b39e-48dcaa36afcb",
   "metadata": {},
   "outputs": [],
   "source": [
    "import face_recognition\n",
    "import os\n",
    "import cv2\n"
   ]
  },
  {
   "cell_type": "code",
   "execution_count": 4,
   "id": "c6496a70-28b3-453a-952f-50dc5499756f",
   "metadata": {},
   "outputs": [],
   "source": [
    "known_face_encodings=[]\n",
    "known_face_names=[]\n",
    "known_dir=\"known_faces\""
   ]
  },
  {
   "cell_type": "code",
   "execution_count": 5,
   "id": "2c450cea-db6b-4886-8784-77b0be70da80",
   "metadata": {},
   "outputs": [],
   "source": [
    "for filename in os.listdir(known_dir):\n",
    "    if filename.endswith(('.jpg','.png','.jpeg')):\n",
    "        image=face_recognition.load_image_file(os.path.join(known_dir,filename))\n",
    "        image=cv2.cvtColor(image,cv2.COLOR_BGR2RGB)\n",
    "        encodings=face_recognition.face_encodings(image)\n",
    "        if encodings:\n",
    "            known_face_encodings.append(encodings[0])\n",
    "            known_face_names.append(os.path.splitext(filename)[0])\n",
    "\n"
   ]
  },
  {
   "cell_type": "code",
   "execution_count": 6,
   "id": "b2fb1452-4df2-47e8-a7d8-4dd0fcc5a677",
   "metadata": {},
   "outputs": [
    {
     "data": {
      "text/plain": [
       "['jhansi', 'koti_lingeswararao', 'kumar', 'parvathi']"
      ]
     },
     "execution_count": 6,
     "metadata": {},
     "output_type": "execute_result"
    }
   ],
   "source": [
    "known_face_names"
   ]
  },
  {
   "cell_type": "code",
   "execution_count": 7,
   "id": "857b59f0-8986-4069-b393-9d8b17b5b541",
   "metadata": {},
   "outputs": [],
   "source": [
    "matches=None"
   ]
  },
  {
   "cell_type": "code",
   "execution_count": 8,
   "id": "2568bf71-eeb4-47d3-8d94-701bb1f6ee70",
   "metadata": {},
   "outputs": [],
   "source": [
    "target_path=\"amma.jpg\"\n",
    "target_image=face_recognition.load_image_file(target_path)\n",
    "target_image=cv2.cvtColor(target_image,cv2.COLOR_BGR2RGB)\n"
   ]
  },
  {
   "cell_type": "code",
   "execution_count": 9,
   "id": "39d9e1c6-d413-41b0-91ff-1561ab63ca51",
   "metadata": {},
   "outputs": [],
   "source": [
    "target_encodings=face_recognition.face_encodings(target_image)"
   ]
  },
  {
   "cell_type": "code",
   "execution_count": 10,
   "id": "aea88100-dd74-446e-a174-c0d3bc5bdb56",
   "metadata": {},
   "outputs": [],
   "source": [
    "cv2.namedWindow(\"my pics\",cv2.WINDOW_NORMAL)\n",
    "cv2.imshow(\"my pics\",target_image)\n",
    "cv2.waitKey(0)\n",
    "cv2.destroyAllWindows()"
   ]
  },
  {
   "cell_type": "code",
   "execution_count": 11,
   "id": "757cfcba-cbaa-41b0-9fed-4639aca12e5a",
   "metadata": {},
   "outputs": [
    {
     "data": {
      "text/plain": [
       "[array([-1.06320567e-01,  4.80651855e-02, -4.01860848e-03, -9.20558795e-02,\n",
       "        -7.25132599e-02, -1.34856626e-02, -2.56312080e-03, -1.46320000e-01,\n",
       "         2.77156264e-01, -1.96733519e-01,  2.52650350e-01, -3.37132812e-03,\n",
       "        -2.19631419e-01, -1.24953315e-01,  2.22008135e-02,  1.43747866e-01,\n",
       "        -1.39470652e-01, -1.90696627e-01,  3.33162695e-02, -7.67034143e-02,\n",
       "         3.11919972e-02, -4.36869077e-02, -9.12236795e-03,  4.99187820e-02,\n",
       "        -1.69043809e-01, -3.05513114e-01, -1.18004970e-01, -1.57058805e-01,\n",
       "        -4.21471447e-02, -9.27693844e-02, -2.07959749e-02,  1.71568200e-01,\n",
       "        -1.44349456e-01, -1.17080081e-02,  5.57290856e-03,  1.23063914e-01,\n",
       "        -2.63541844e-02,  5.79147972e-02,  1.85147002e-01,  2.76729465e-04,\n",
       "        -2.20664844e-01, -8.44405740e-02,  6.01867028e-02,  2.50809282e-01,\n",
       "         2.19314843e-01,  6.87429635e-03, -4.46182452e-02, -5.49670868e-02,\n",
       "         1.45200565e-01, -1.98229983e-01,  3.23838145e-02,  1.11143738e-01,\n",
       "         1.12100922e-01,  7.51241967e-02,  6.82673007e-02, -1.62499487e-01,\n",
       "         1.57681666e-03,  7.61574209e-02, -2.07006469e-01, -1.66906882e-02,\n",
       "         3.41965705e-02, -2.12493494e-01, -1.12264834e-01, -2.39734109e-02,\n",
       "         2.79437661e-01,  1.24934047e-01, -1.12424470e-01, -1.19467996e-01,\n",
       "         2.39408225e-01, -1.49983898e-01, -5.79607263e-02,  1.19353764e-01,\n",
       "        -1.36954442e-01, -1.70060843e-01, -2.26459309e-01,  5.18720597e-04,\n",
       "         3.19605470e-01,  9.75425392e-02, -1.32949799e-01,  8.92749652e-02,\n",
       "        -7.10500330e-02, -2.47481950e-02,  3.00730150e-02,  8.76479670e-02,\n",
       "        -6.84637576e-04,  2.03827545e-02, -8.12675506e-02, -3.31201032e-02,\n",
       "         1.66338444e-01, -5.22036850e-02,  3.70633900e-02,  2.04760641e-01,\n",
       "        -6.20705038e-02,  6.33264035e-02,  4.17974330e-02,  3.11998278e-02,\n",
       "        -7.71187469e-02, -2.51367316e-02, -1.73000693e-01, -1.05138771e-01,\n",
       "        -1.06449276e-02, -9.29652750e-02, -3.02442219e-02,  5.85614331e-02,\n",
       "        -2.32223377e-01,  1.63687870e-01,  1.81481373e-02,  8.64159036e-03,\n",
       "        -4.68815528e-02, -4.76865210e-02,  3.70300841e-04, -1.32863745e-02,\n",
       "         1.31531000e-01, -3.08501393e-01,  1.90072998e-01,  1.11933678e-01,\n",
       "         1.04329037e-02,  2.00471044e-01,  1.66356023e-02,  5.68337366e-02,\n",
       "        -6.13304526e-02, -1.37258142e-01, -1.99014843e-01, -3.60381231e-02,\n",
       "         6.96574822e-02, -3.12622897e-02,  3.24772783e-02,  1.10629732e-02])]"
      ]
     },
     "execution_count": 11,
     "metadata": {},
     "output_type": "execute_result"
    }
   ],
   "source": [
    "target_encodings"
   ]
  },
  {
   "cell_type": "code",
   "execution_count": 12,
   "id": "a89fe629-c0ba-4a44-aeb7-142c8291c23d",
   "metadata": {},
   "outputs": [
    {
     "name": "stdout",
     "output_type": "stream",
     "text": [
      "hello hi\n",
      "Matched person :jhansi\n"
     ]
    }
   ],
   "source": [
    "for encoding in target_encodings:\n",
    "    print(\"hello hi\")\n",
    "    matches=face_recognition.compare_faces(known_face_encodings,encoding)\n",
    "    name=\"unknown\"\n",
    "    if True in matches:\n",
    "        first_match_index=matches.index(True)\n",
    "        name=known_face_names[first_match_index]\n",
    "    print(f\"Matched person :{name}\")"
   ]
  },
  {
   "cell_type": "code",
   "execution_count": 23,
   "id": "1f29a8f9-4594-4141-a173-5eb2c2e2a2dd",
   "metadata": {},
   "outputs": [],
   "source": [
    "def get_name(image):\n",
    "    target_image=image\n",
    "    target_image=cv2.cvtColor(target_image,cv2.COLOR_BGR2RGB)\n",
    "    target_encodings=face_recognition.face_encodings(target_image)\n",
    "    name=\"unknown\"\n",
    "    for encoding in target_encodings:\n",
    "        matches=face_recognition.compare_faces(known_face_encodings,encoding)\n",
    "        \n",
    "        if True in matches:\n",
    "            first_match_index=matches.index(True)\n",
    "            name=known_face_names[first_match_index]\n",
    "        \n",
    "    return name\n"
   ]
  },
  {
   "cell_type": "code",
   "execution_count": 27,
   "id": "34b5c3fb-fa22-4f75-9f93-c191feb2d47d",
   "metadata": {},
   "outputs": [
    {
     "data": {
      "text/plain": [
       "[np.True_, np.False_, np.False_, np.True_]"
      ]
     },
     "execution_count": 27,
     "metadata": {},
     "output_type": "execute_result"
    }
   ],
   "source": [
    "matches"
   ]
  },
  {
   "cell_type": "code",
   "execution_count": 26,
   "id": "52ffe45e-0d11-42bb-b8b8-e886ceb33cf8",
   "metadata": {},
   "outputs": [],
   "source": [
    "cap=cv2.VideoCapture(0)\n",
    "cv2.namedWindow(\"capture\")\n",
    "while True:\n",
    "    ret,frame=cap.read()\n",
    "    if ret==False:\n",
    "        break\n",
    "    #name=get_name(frame)\n",
    "   \n",
    "    \n",
    "    \n",
    "    name_detected=get_name(frame)\n",
    "    position = (400, 400)  # x=50, y=50 (top-left corner)\n",
    "    font = cv2.FONT_HERSHEY_SIMPLEX\n",
    "    font_scale = 1\n",
    "    color = (0, 255, 0)  # Green color in BGR\n",
    "    thickness = 2\n",
    "\n",
    "    # Draw text on the frame\n",
    "    cv2.putText(frame, name_detected, position, font, font_scale, color, thickness, cv2.LINE_AA)\n",
    "    cv2.imshow(\"capture\",frame)\n",
    "    if cv2.waitKey(1)==ord('a'):\n",
    "        break\n",
    "    \n",
    "cap.release()\n",
    "cv2.destroyAllWindows()"
   ]
  },
  {
   "cell_type": "code",
   "execution_count": 20,
   "id": "98a76c37-08a5-4699-bdda-e6af9aba8277",
   "metadata": {},
   "outputs": [],
   "source": [
    "cap.release()"
   ]
  },
  {
   "cell_type": "code",
   "execution_count": null,
   "id": "96ea2143-56e2-48fa-9526-c116d0a2097a",
   "metadata": {},
   "outputs": [],
   "source": []
  }
 ],
 "metadata": {
  "kernelspec": {
   "display_name": "Python 3 (ipykernel)",
   "language": "python",
   "name": "python3"
  },
  "language_info": {
   "codemirror_mode": {
    "name": "ipython",
    "version": 3
   },
   "file_extension": ".py",
   "mimetype": "text/x-python",
   "name": "python",
   "nbconvert_exporter": "python",
   "pygments_lexer": "ipython3",
   "version": "3.13.2"
  }
 },
 "nbformat": 4,
 "nbformat_minor": 5
}
